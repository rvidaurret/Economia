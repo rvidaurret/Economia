{
 "cells": [
  {
   "cell_type": "code",
   "execution_count": 6,
   "id": "d6c3f9b8",
   "metadata": {},
   "outputs": [
    {
     "data": {
      "text/html": [
       "<table>\n",
       "<thead><tr><th scope=col>Tiempo</th><th scope=col>PIB.2004</th><th scope=col>IBIF.2004</th><th scope=col>IPC.Base.2016</th></tr></thead>\n",
       "<tbody>\n",
       "\t<tr><td>1993 - 1</td><td>400232.7</td><td>63263.84</td><td>8.709532</td></tr>\n",
       "\t<tr><td>1993 - 2</td><td>411651.1</td><td>68815.95</td><td>8.977918</td></tr>\n",
       "\t<tr><td>1993 - 3</td><td>419926.3</td><td>72654.67</td><td>9.082479</td></tr>\n",
       "\t<tr><td>1993 - 4</td><td>423308.6</td><td>75250.87</td><td>9.137843</td></tr>\n",
       "\t<tr><td>1994 - 1</td><td>429325.3</td><td>76981.68</td><td>9.159471</td></tr>\n",
       "\t<tr><td>1994 - 2</td><td>438204.8</td><td>80641.76</td><td>9.249246</td></tr>\n",
       "</tbody>\n",
       "</table>\n"
      ],
      "text/latex": [
       "\\begin{tabular}{r|llll}\n",
       " Tiempo & PIB.2004 & IBIF.2004 & IPC.Base.2016\\\\\n",
       "\\hline\n",
       "\t 1993 - 1 & 400232.7 & 63263.84 & 8.709532\\\\\n",
       "\t 1993 - 2 & 411651.1 & 68815.95 & 8.977918\\\\\n",
       "\t 1993 - 3 & 419926.3 & 72654.67 & 9.082479\\\\\n",
       "\t 1993 - 4 & 423308.6 & 75250.87 & 9.137843\\\\\n",
       "\t 1994 - 1 & 429325.3 & 76981.68 & 9.159471\\\\\n",
       "\t 1994 - 2 & 438204.8 & 80641.76 & 9.249246\\\\\n",
       "\\end{tabular}\n"
      ],
      "text/markdown": [
       "\n",
       "| Tiempo | PIB.2004 | IBIF.2004 | IPC.Base.2016 |\n",
       "|---|---|---|---|\n",
       "| 1993 - 1 | 400232.7 | 63263.84 | 8.709532 |\n",
       "| 1993 - 2 | 411651.1 | 68815.95 | 8.977918 |\n",
       "| 1993 - 3 | 419926.3 | 72654.67 | 9.082479 |\n",
       "| 1993 - 4 | 423308.6 | 75250.87 | 9.137843 |\n",
       "| 1994 - 1 | 429325.3 | 76981.68 | 9.159471 |\n",
       "| 1994 - 2 | 438204.8 | 80641.76 | 9.249246 |\n",
       "\n"
      ],
      "text/plain": [
       "  Tiempo   PIB.2004 IBIF.2004 IPC.Base.2016\n",
       "1 1993 - 1 400232.7 63263.84  8.709532     \n",
       "2 1993 - 2 411651.1 68815.95  8.977918     \n",
       "3 1993 - 3 419926.3 72654.67  9.082479     \n",
       "4 1993 - 4 423308.6 75250.87  9.137843     \n",
       "5 1994 - 1 429325.3 76981.68  9.159471     \n",
       "6 1994 - 2 438204.8 80641.76  9.249246     "
      ]
     },
     "metadata": {},
     "output_type": "display_data"
    }
   ],
   "source": [
    "df <- read.table(file = \"datostesis.txt\", header = TRUE, sep = \"\t\", stringsAsFactors = FALSE)\n",
    "head(df)"
   ]
  },
  {
   "cell_type": "code",
   "execution_count": null,
   "id": "a6132bbf",
   "metadata": {},
   "outputs": [],
   "source": []
  },
  {
   "cell_type": "code",
   "execution_count": null,
   "id": "e15b469c",
   "metadata": {},
   "outputs": [],
   "source": []
  }
 ],
 "metadata": {
  "kernelspec": {
   "display_name": "R",
   "language": "R",
   "name": "ir"
  },
  "language_info": {
   "codemirror_mode": "r",
   "file_extension": ".r",
   "mimetype": "text/x-r-source",
   "name": "R",
   "pygments_lexer": "r",
   "version": "3.6.3"
  }
 },
 "nbformat": 4,
 "nbformat_minor": 5
}
