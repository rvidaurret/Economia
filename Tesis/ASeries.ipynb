{
 "cells": [
  {
   "cell_type": "code",
   "execution_count": 1,
   "id": "24370ff3",
   "metadata": {},
   "outputs": [
    {
     "name": "stderr",
     "output_type": "stream",
     "text": [
      "\n",
      "Attaching package: 'zoo'\n",
      "\n",
      "The following objects are masked from 'package:base':\n",
      "\n",
      "    as.Date, as.Date.numeric\n",
      "\n",
      "Registered S3 method overwritten by 'quantmod':\n",
      "  method            from\n",
      "  as.zoo.data.frame zoo \n"
     ]
    }
   ],
   "source": [
    "library(zoo)\n",
    "library(tseries)\n",
    "library(urca)"
   ]
  },
  {
   "cell_type": "code",
   "execution_count": 2,
   "id": "2c7530b0",
   "metadata": {},
   "outputs": [
    {
     "data": {
      "text/html": [
       "<table>\n",
       "<thead><tr><th scope=col>Tiempo</th><th scope=col>PIB</th><th scope=col>IBIF</th><th scope=col>IPC</th></tr></thead>\n",
       "<tbody>\n",
       "\t<tr><td>1993 - 1</td><td>400232.7</td><td>63263.84</td><td>8.709532</td></tr>\n",
       "\t<tr><td>1993 - 2</td><td>411651.1</td><td>68815.95</td><td>8.977918</td></tr>\n",
       "\t<tr><td>1993 - 3</td><td>419926.3</td><td>72654.67</td><td>9.082479</td></tr>\n",
       "\t<tr><td>1993 - 4</td><td>423308.6</td><td>75250.87</td><td>9.137843</td></tr>\n",
       "\t<tr><td>1994 - 1</td><td>429325.3</td><td>76981.68</td><td>9.159471</td></tr>\n",
       "\t<tr><td>1994 - 2</td><td>438204.8</td><td>80641.76</td><td>9.249246</td></tr>\n",
       "</tbody>\n",
       "</table>\n"
      ],
      "text/latex": [
       "\\begin{tabular}{r|llll}\n",
       " Tiempo & PIB & IBIF & IPC\\\\\n",
       "\\hline\n",
       "\t 1993 - 1 & 400232.7 & 63263.84 & 8.709532\\\\\n",
       "\t 1993 - 2 & 411651.1 & 68815.95 & 8.977918\\\\\n",
       "\t 1993 - 3 & 419926.3 & 72654.67 & 9.082479\\\\\n",
       "\t 1993 - 4 & 423308.6 & 75250.87 & 9.137843\\\\\n",
       "\t 1994 - 1 & 429325.3 & 76981.68 & 9.159471\\\\\n",
       "\t 1994 - 2 & 438204.8 & 80641.76 & 9.249246\\\\\n",
       "\\end{tabular}\n"
      ],
      "text/markdown": [
       "\n",
       "| Tiempo | PIB | IBIF | IPC |\n",
       "|---|---|---|---|\n",
       "| 1993 - 1 | 400232.7 | 63263.84 | 8.709532 |\n",
       "| 1993 - 2 | 411651.1 | 68815.95 | 8.977918 |\n",
       "| 1993 - 3 | 419926.3 | 72654.67 | 9.082479 |\n",
       "| 1993 - 4 | 423308.6 | 75250.87 | 9.137843 |\n",
       "| 1994 - 1 | 429325.3 | 76981.68 | 9.159471 |\n",
       "| 1994 - 2 | 438204.8 | 80641.76 | 9.249246 |\n",
       "\n"
      ],
      "text/plain": [
       "  Tiempo   PIB      IBIF     IPC     \n",
       "1 1993 - 1 400232.7 63263.84 8.709532\n",
       "2 1993 - 2 411651.1 68815.95 8.977918\n",
       "3 1993 - 3 419926.3 72654.67 9.082479\n",
       "4 1993 - 4 423308.6 75250.87 9.137843\n",
       "5 1994 - 1 429325.3 76981.68 9.159471\n",
       "6 1994 - 2 438204.8 80641.76 9.249246"
      ]
     },
     "metadata": {},
     "output_type": "display_data"
    }
   ],
   "source": [
    "series <- read.table(file = \"datostesis.txt\", header = TRUE, sep = \"\t\", stringsAsFactors = FALSE)\n",
    "head(series)"
   ]
  },
  {
   "cell_type": "code",
   "execution_count": 3,
   "id": "1f98b1ff",
   "metadata": {},
   "outputs": [
    {
     "data": {
      "text/plain": [
       "[1] \"1993 Q1\" \"1993 Q2\" \"1993 Q3\" \"1993 Q4\" \"1994 Q1\" \"1994 Q2\""
      ]
     },
     "metadata": {},
     "output_type": "display_data"
    }
   ],
   "source": [
    "tiempo <- series$Tiempo\n",
    "tiempo <- as.yearqtr(format(tiempo), \"%Y - %q\")\n",
    "pib <- series$PIB\n",
    "ibif <- series$IBIF\n",
    "ipc <- series$IPC\n",
    "head(tiempo)"
   ]
  },
  {
   "cell_type": "markdown",
   "id": "15ad4799",
   "metadata": {},
   "source": [
    "Aplico logaritmos para suavizar las series"
   ]
  },
  {
   "cell_type": "code",
   "execution_count": 4,
   "id": "2e33a42b",
   "metadata": {},
   "outputs": [],
   "source": [
    "log_pib <- log(pib)\n",
    "log_ibif <- log(ibif)\n",
    "log_ipc <- log(ipc)"
   ]
  },
  {
   "cell_type": "markdown",
   "id": "8d331277",
   "metadata": {},
   "source": [
    "## Sobre la serie de IPC"
   ]
  },
  {
   "cell_type": "markdown",
   "id": "f7a3fc4a",
   "metadata": {},
   "source": [
    "Viendo el gráfico de la serie de IPC parecería que tiene una tendencia determinística de orden mayor a la lineal. \n",
    "\n",
    "Le saco esta tendencia restandole el fit de un polinomio de orden 2 (ya de orden 3 me da no significativos).  \n",
    "\n",
    "La nueva variable es log_ipcdt"
   ]
  },
  {
   "cell_type": "code",
   "execution_count": 5,
   "id": "e7b9e2fe",
   "metadata": {},
   "outputs": [
    {
     "data": {
      "text/plain": [
       "\n",
       "Call:\n",
       "lm(formula = log_ipc ~ poly(tiempo, 2, raw = TRUE))\n",
       "\n",
       "Residuals:\n",
       "     Min       1Q   Median       3Q      Max \n",
       "-0.20334 -0.08773 -0.00058  0.08388  0.23086 \n",
       "\n",
       "Coefficients:\n",
       "                               Estimate Std. Error t value Pr(>|t|)    \n",
       "(Intercept)                   2.619e+04  5.995e+02   43.69   <2e-16 ***\n",
       "poly(tiempo, 2, raw = TRUE)1 -2.622e+01  5.973e-01  -43.90   <2e-16 ***\n",
       "poly(tiempo, 2, raw = TRUE)2  6.564e-03  1.488e-04   44.12   <2e-16 ***\n",
       "---\n",
       "Signif. codes:  0 '***' 0.001 '**' 0.01 '*' 0.05 '.' 0.1 ' ' 1\n",
       "\n",
       "Residual standard error: 0.1004 on 113 degrees of freedom\n",
       "Multiple R-squared:  0.9929,\tAdjusted R-squared:  0.9927 \n",
       "F-statistic:  7859 on 2 and 113 DF,  p-value: < 2.2e-16\n"
      ]
     },
     "metadata": {},
     "output_type": "display_data"
    }
   ],
   "source": [
    "polfit_log_ipc <- lm(log_ipc ~ poly(tiempo, 2, raw=TRUE))\n",
    "summary(polfit_log_ipc)"
   ]
  },
  {
   "cell_type": "code",
   "execution_count": 6,
   "id": "98dc3c6a",
   "metadata": {},
   "outputs": [
    {
     "data": {
      "image/png": "[encoded data removed]",
      "text/plain": [
       "Plot with title \"Ajuste de la tendencia de IPC\""
      ]
     },
     "metadata": {},
     "output_type": "display_data"
    }
   ],
   "source": [
    "plot(log_ipc ~ tiempo, main = \"Ajuste de la tendencia de IPC\")\n",
    "lines(fitted(polfit_log_ipc) ~ tiempo, col = \"red\")"
   ]
  },
  {
   "cell_type": "code",
   "execution_count": 7,
   "id": "d922cb60",
   "metadata": {},
   "outputs": [],
   "source": [
    "log_ipcdt <- polfit_log_ipc$residuals"
   ]
  },
  {
   "cell_type": "markdown",
   "id": "82af0c72",
   "metadata": {},
   "source": [
    "# Test de Raíz unitaria"
   ]
  },
  {
   "cell_type": "markdown",
   "id": "2176a6e9",
   "metadata": {},
   "source": [
    "## Dickey Fuller Aumentado"
   ]
  },
  {
   "cell_type": "code",
   "execution_count": 8,
   "id": "1f61f602",
   "metadata": {},
   "outputs": [
    {
     "data": {
      "text/plain": [
       "\n",
       "############################################### \n",
       "# Augmented Dickey-Fuller Test Unit Root Test # \n",
       "############################################### \n",
       "\n",
       "Test regression trend \n",
       "\n",
       "\n",
       "Call:\n",
       "lm(formula = z.diff ~ z.lag.1 + 1 + tt + z.diff.lag)\n",
       "\n",
       "Residuals:\n",
       "      Min        1Q    Median        3Q       Max \n",
       "-0.036662 -0.007904 -0.002775  0.002150  0.117338 \n",
       "\n",
       "Coefficients:\n",
       "              Estimate Std. Error t value Pr(>|t|)    \n",
       "(Intercept) -0.0151033  0.0085249  -1.772   0.0792 .  \n",
       "z.lag.1      0.0058134  0.0050148   1.159   0.2489    \n",
       "tt           0.0002202  0.0001628   1.352   0.1790    \n",
       "z.diff.lag   0.5393673  0.0818892   6.587  1.6e-09 ***\n",
       "---\n",
       "Signif. codes:  0 '***' 0.001 '**' 0.01 '*' 0.05 '.' 0.1 ' ' 1\n",
       "\n",
       "Residual standard error: 0.02036 on 110 degrees of freedom\n",
       "Multiple R-squared:  0.7153,\tAdjusted R-squared:  0.7076 \n",
       "F-statistic: 92.14 on 3 and 110 DF,  p-value: < 2.2e-16\n",
       "\n",
       "\n",
       "Value of test-statistic is: 1.1593 9.2645 10.4823 \n",
       "\n",
       "Critical values for test statistics: \n",
       "      1pct  5pct 10pct\n",
       "tau3 -3.99 -3.43 -3.13\n",
       "phi2  6.22  4.75  4.07\n",
       "phi3  8.43  6.49  5.47\n"
      ]
     },
     "metadata": {},
     "output_type": "display_data"
    }
   ],
   "source": [
    "adf_log_ipc <- ur.df(log_ipc, type=\"trend\", selectlags = \"AIC\")\n",
    "summary(adf_log_ipc)"
   ]
  },
  {
   "cell_type": "markdown",
   "id": "b743378e",
   "metadata": {},
   "source": [
    "### Test usando las variables diferenciadas:"
   ]
  },
  {
   "cell_type": "code",
   "execution_count": 9,
   "id": "b4d2e226",
   "metadata": {},
   "outputs": [],
   "source": [
    "dif_log_pib <- diff(log_pib)\n",
    "dif_log_ibif <- (diff(log_ibif))\n",
    "dif_log_ipc <- (diff(log_ipc))\n",
    "dif_log_ipcdt <- (diff(log_ipcdt))"
   ]
  },
  {
   "cell_type": "code",
   "execution_count": 10,
   "id": "b9b56854",
   "metadata": {},
   "outputs": [
    {
     "data": {
      "text/plain": [
       "\n",
       "############################################### \n",
       "# Augmented Dickey-Fuller Test Unit Root Test # \n",
       "############################################### \n",
       "\n",
       "Test regression trend \n",
       "\n",
       "\n",
       "Call:\n",
       "lm(formula = z.diff ~ z.lag.1 + 1 + tt + z.diff.lag)\n",
       "\n",
       "Residuals:\n",
       "      Min        1Q    Median        3Q       Max \n",
       "-0.045286 -0.009684 -0.003836  0.005542  0.090449 \n",
       "\n",
       "Coefficients:\n",
       "              Estimate Std. Error t value Pr(>|t|)    \n",
       "(Intercept)  2.908e-04  3.739e-03   0.078 0.938143    \n",
       "z.lag.1     -5.602e-01  8.260e-02  -6.783 6.36e-10 ***\n",
       "tt           2.648e-05  5.614e-05   0.472 0.638016    \n",
       "z.diff.lag   3.240e-01  8.950e-02   3.620 0.000449 ***\n",
       "---\n",
       "Signif. codes:  0 '***' 0.001 '**' 0.01 '*' 0.05 '.' 0.1 ' ' 1\n",
       "\n",
       "Residual standard error: 0.01945 on 109 degrees of freedom\n",
       "Multiple R-squared:  0.2991,\tAdjusted R-squared:  0.2799 \n",
       "F-statistic: 15.51 on 3 and 109 DF,  p-value: 1.809e-08\n",
       "\n",
       "\n",
       "Value of test-statistic is: -6.7825 15.3639 23.0457 \n",
       "\n",
       "Critical values for test statistics: \n",
       "      1pct  5pct 10pct\n",
       "tau3 -3.99 -3.43 -3.13\n",
       "phi2  6.22  4.75  4.07\n",
       "phi3  8.43  6.49  5.47\n"
      ]
     },
     "metadata": {},
     "output_type": "display_data"
    }
   ],
   "source": [
    "adf_dif_log_ipcdt <- ur.df(dif_log_ipcdt, type=\"trend\", selectlags = \"AIC\")\n",
    "summary(adf_dif_log_ipcdt)"
   ]
  },
  {
   "cell_type": "markdown",
   "id": "1a49401c",
   "metadata": {},
   "source": [
    "## Test de Zivot-Andrews"
   ]
  },
  {
   "cell_type": "markdown",
   "id": "d77d51d6",
   "metadata": {},
   "source": [
    "Los quiebres estructurales suelen dar una pérdida de potencia a los test clásicos de ADF. A partir de Perron (1989) se ve que las series pueden ser estacionarias con algún cambio estructural en la tendencia determinística o en el intercepto. Estos fenómenos tienen un efecto de sobreestimación en los test de Dickey-Fuller. La ventaja del los tests ZA sobre los de Perron es que los posibles quiebres estructurales se estiman de manera endógena a partir del valor mínimo del estadístico $T$."
   ]
  },
  {
   "cell_type": "code",
   "execution_count": 11,
   "id": "21eb8a68",
   "metadata": {},
   "outputs": [
    {
     "data": {
      "text/plain": [
       "\n",
       "################################ \n",
       "# Zivot-Andrews Unit Root Test # \n",
       "################################ \n",
       "\n",
       "\n",
       "Call:\n",
       "lm(formula = testmat)\n",
       "\n",
       "Residuals:\n",
       "      Min        1Q    Median        3Q       Max \n",
       "-0.033690 -0.009143 -0.001890  0.003123  0.093477 \n",
       "\n",
       "Coefficients:\n",
       "              Estimate Std. Error t value Pr(>|t|)    \n",
       "(Intercept) -0.0073154  0.0124097  -0.589   0.5568    \n",
       "y.l1         1.0013520  0.0070972 141.092  < 2e-16 ***\n",
       "trend        0.0004070  0.0001923   2.116   0.0367 *  \n",
       "y.dl1        0.7127064  0.0896589   7.949 2.05e-12 ***\n",
       "y.dl2       -0.3693253  0.0898518  -4.110 7.76e-05 ***\n",
       "du           0.0189203  0.0102086   1.853   0.0666 .  \n",
       "---\n",
       "Signif. codes:  0 '***' 0.001 '**' 0.01 '*' 0.05 '.' 0.1 ' ' 1\n",
       "\n",
       "Residual standard error: 0.01888 on 107 degrees of freedom\n",
       "  (3 observations deleted due to missingness)\n",
       "Multiple R-squared:  0.9998,\tAdjusted R-squared:  0.9997 \n",
       "F-statistic: 8.724e+04 on 5 and 107 DF,  p-value: < 2.2e-16\n",
       "\n",
       "\n",
       "Teststatistic: 0.1905 \n",
       "Critical values: 0.01= -5.34 0.05= -4.8 0.1= -4.58 \n",
       "\n",
       "Potential break point at position: 101 \n"
      ]
     },
     "metadata": {},
     "output_type": "display_data"
    }
   ],
   "source": [
    "za.log_ipc <- ur.za(log_ipc, model=\"intercept\", lag=2) \n",
    "summary(za.log_ipc)"
   ]
  },
  {
   "cell_type": "code",
   "execution_count": 12,
   "id": "5c360d0b",
   "metadata": {},
   "outputs": [
    {
     "data": {
      "text/html": [
       "-568.576925785918"
      ],
      "text/latex": [
       "-568.576925785918"
      ],
      "text/markdown": [
       "-568.576925785918"
      ],
      "text/plain": [
       "[1] -568.5769"
      ]
     },
     "metadata": {},
     "output_type": "display_data"
    }
   ],
   "source": [
    "AIC(eval(attributes(za.log_ipc)$testreg))"
   ]
  },
  {
   "cell_type": "code",
   "execution_count": 13,
   "id": "25e3e3a0",
   "metadata": {},
   "outputs": [
    {
     "data": {
      "text/plain": [
       "\n",
       "################################ \n",
       "# Zivot-Andrews Unit Root Test # \n",
       "################################ \n",
       "\n",
       "\n",
       "Call:\n",
       "lm(formula = testmat)\n",
       "\n",
       "Residuals:\n",
       "      Min        1Q    Median        3Q       Max \n",
       "-0.034186 -0.009333 -0.002111  0.003510  0.093147 \n",
       "\n",
       "Coefficients:\n",
       "              Estimate Std. Error t value Pr(>|t|)    \n",
       "(Intercept)  5.108e-03  4.016e-03   1.272  0.20618    \n",
       "y.l1         3.471e-01  8.586e-02   4.043 9.93e-05 ***\n",
       "trend       -9.619e-05  6.848e-05  -1.405  0.16303    \n",
       "y.dl1        3.660e-01  8.770e-02   4.173 6.11e-05 ***\n",
       "du           2.034e-02  6.927e-03   2.937  0.00405 ** \n",
       "---\n",
       "Signif. codes:  0 '***' 0.001 '**' 0.01 '*' 0.05 '.' 0.1 ' ' 1\n",
       "\n",
       "Residual standard error: 0.0188 on 108 degrees of freedom\n",
       "  (2 observations deleted due to missingness)\n",
       "Multiple R-squared:  0.4491,\tAdjusted R-squared:  0.4287 \n",
       "F-statistic: 22.01 on 4 and 108 DF,  p-value: 2.623e-13\n",
       "\n",
       "\n",
       "Teststatistic: -7.604 \n",
       "Critical values: 0.01= -5.34 0.05= -4.8 0.1= -4.58 \n",
       "\n",
       "Potential break point at position: 100 \n"
      ]
     },
     "metadata": {},
     "output_type": "display_data"
    }
   ],
   "source": [
    "za.dif_log_ipcdt <- ur.za(dif_log_ipcdt, model=\"intercept\", lag = 1) \n",
    "summary(za.dif_log_ipcdt)"
   ]
  },
  {
   "cell_type": "markdown",
   "id": "816a8d16",
   "metadata": {},
   "source": [
    "# Resultados"
   ]
  },
  {
   "cell_type": "markdown",
   "id": "e295a032",
   "metadata": {},
   "source": [
    "Para determinar los lags usé el criterio de información de Akaike."
   ]
  },
  {
   "cell_type": "markdown",
   "id": "0c8780f9",
   "metadata": {},
   "source": [
    "### ADF test\n",
    "\n",
    "|            |random walk| intercepto | intercepto y tendencia | Dif random wal | Dif intercepto | Dif intercepto ytendencia|\n",
    "| ---          |---        |    ---     |        ---             |       ---      |      ---       | ---\n",
    "|log (pib) |  $$I(1)$$  |  $$I(1)$$    |        $$I(1)$$          | $$I(0)$$      |   $$I(0)$$     |  $$I(0)$$| \n",
    "|log (ibif)|  $$I(1)$$  |  $$I(1)$$    |        $$I(1)$$          | $$I(0)$$      |  $$I(0)$$      |  $$I(0)$$|\n",
    "|log (ipc) |  $$I(1)$$  |  $$I(1)$$    |        $$I(1)$$          | $$I(0)**$$    |  $$I(0)$$      |  $$I(0)$$| \n",
    "|log (ipc dt)| $$I(1)^*$$   |  $$I(1)$$    |        $$I(1)$$       | $$I(0)$$     | $$I(0)$$       |  $$I(0)$$| \n",
    "\n",
    "*Solo para un nivel de significación de 0.01\n",
    "\n",
    "**Para un nivel de significación de 0.05 "
   ]
  },
  {
   "cell_type": "markdown",
   "id": "87a68484",
   "metadata": {},
   "source": [
    "### ZA test\n",
    "\n",
    "|              | intercepto | tendencia| intercepto y tendencia| Diff intercepto| Diff tendencia | Diff interceto y tendencia|\n",
    "| ---          |    ---     |        --- |          ---           | ---              |    ---    | ---|\n",
    "|log (pib) |  $$I(1)$$    |     $$I(1)$$   |        $$I(1)$$        | $$I(0)$$         | $$I(0)$$| $$I(0)$$|\n",
    "|log (ibif)|  $$I(1)$$    |        $$I(1)$$|        $$I(1)$$        |   $$I(0)$$       | $$I(0)$$| $$I(0)$$|\n",
    "|log (ipc) |  $$I(1)$$    |        $$I(1)$$|        $$I(1)$$        | $$I(0)$$       | $$I(0)$$| $$I(0)$$|\n",
    "|log (ipc dt) |  $$I(1)$$ |      $$I(1)$$  |           $$I(1)$$     | $$I(0)$$       | $$I(0)$$| $$I(0)$$|\n"
   ]
  },
  {
   "cell_type": "markdown",
   "id": "36201c71",
   "metadata": {},
   "source": [
    "## Comparo las series de IPC en diferencias"
   ]
  },
  {
   "cell_type": "markdown",
   "id": "9175c692",
   "metadata": {},
   "source": [
    "Parecería que log_ipcdt resulta más apropiada porque decae más rápido que log_ipc."
   ]
  },
  {
   "cell_type": "code",
   "execution_count": 14,
   "id": "57309377",
   "metadata": {},
   "outputs": [
    {
     "data": {
      "image/png": "[encoded data removed]",
      "text/plain": [
       "Plot with title \"Series  dif_log_ipc\""
      ]
     },
     "metadata": {},
     "output_type": "display_data"
    }
   ],
   "source": [
    "acf(dif_log_ipc)"
   ]
  },
  {
   "cell_type": "code",
   "execution_count": 15,
   "id": "bdceb63d",
   "metadata": {},
   "outputs": [
    {
     "data": {
      "image/png": "[encoded data removed]",
      "text/plain": [
       "Plot with title \"Series  dif_log_ipcdt\""
      ]
     },
     "metadata": {},
     "output_type": "display_data"
    }
   ],
   "source": [
    "acf(dif_log_ipcdt)"
   ]
  },
  {
   "cell_type": "markdown",
   "id": "f77db93f",
   "metadata": {},
   "source": [
    "# La series en diferencias"
   ]
  },
  {
   "cell_type": "code",
   "execution_count": 16,
   "id": "993ce717",
   "metadata": {},
   "outputs": [
    {
     "data": {
      "image/png": "[encoded data removed]",
      "text/plain": [
       "plot without title"
      ]
     },
     "metadata": {},
     "output_type": "display_data"
    }
   ],
   "source": [
    "cols <- c(\"pib\", \"ibif\", \"ipc\") \n",
    "matplot(cbind(dif_log_pib, dif_log_ibif, dif_log_ipcdt), xlab = \"Tiempo\", ylab = \"En logaritmos\",  type = \"l\")\n",
    "legend(\"top\", cols, col=seq_len(3),cex=0.8,fill=seq_len(3))"
   ]
  },
  {
   "cell_type": "code",
   "execution_count": null,
   "id": "8d6ea2f4",
   "metadata": {},
   "outputs": [],
   "source": []
  }
 ],
 "metadata": {
  "kernelspec": {
   "display_name": "R",
   "language": "R",
   "name": "ir"
  },
  "language_info": {
   "codemirror_mode": "r",
   "file_extension": ".r",
   "mimetype": "text/x-r-source",
   "name": "R",
   "pygments_lexer": "r",
   "version": "3.6.3"
  }
 },
 "nbformat": 4,
 "nbformat_minor": 5
}
