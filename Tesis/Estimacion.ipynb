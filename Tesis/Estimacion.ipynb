{
 "cells": [
  {
   "cell_type": "code",
   "execution_count": 1,
   "id": "e14fd5da",
   "metadata": {},
   "outputs": [
    {
     "name": "stderr",
     "output_type": "stream",
     "text": [
      "\n",
      "Attaching package: 'zoo'\n",
      "\n",
      "The following objects are masked from 'package:base':\n",
      "\n",
      "    as.Date, as.Date.numeric\n",
      "\n",
      "Registered S3 method overwritten by 'quantmod':\n",
      "  method            from\n",
      "  as.zoo.data.frame zoo \n",
      "Loading required package: MASS\n",
      "Loading required package: strucchange\n",
      "Loading required package: sandwich\n",
      "Loading required package: lmtest\n"
     ]
    }
   ],
   "source": [
    "library(zoo)\n",
    "library(tseries)\n",
    "library(urca)\n",
    "library(vars)"
   ]
  },
  {
   "cell_type": "code",
   "execution_count": 2,
   "id": "588fecd3",
   "metadata": {},
   "outputs": [],
   "source": [
    "series <- read.table(file = \"datostesis.txt\", header = TRUE, sep = \"\t\", stringsAsFactors = FALSE)"
   ]
  },
  {
   "cell_type": "code",
   "execution_count": 3,
   "id": "62d65982",
   "metadata": {},
   "outputs": [],
   "source": [
    "tiempo <- series$Tiempo\n",
    "tiempo <- as.yearqtr(format(tiempo), \"%Y - %q\")\n",
    "dif_log_pib <- diff(log(series$PIB))\n",
    "dif_log_ibif <- diff(log(series$IBIF))\n",
    "dif_log_ipc <- diff(log(series$IPC))\n",
    "polfit_log_ipc <- lm(log(series$IPC) ~ poly(tiempo, 2, raw=TRUE))\n",
    "dif_log_ipcdt <- diff(polfit_log_ipc$residuals)"
   ]
  },
  {
   "cell_type": "code",
   "execution_count": 9,
   "id": "25685d45",
   "metadata": {},
   "outputs": [],
   "source": [
    "amat <- diag(3)\n",
    "amat[2,1] <- NA\n",
    "amat[3,1] <- NA\n",
    "amat[3,2] <- NA\n"
   ]
  },
  {
   "cell_type": "markdown",
   "id": "ba79ef4b",
   "metadata": {},
   "source": [
    "# Defino subperíodos"
   ]
  },
  {
   "cell_type": "markdown",
   "id": "a342628e",
   "metadata": {},
   "source": [
    " Tomando el resultado de Luis de $8.5 \\% $. A partir de 2005Q1 se empieza a tener anualmente niveles superiores a ese valor \n",
    " \n",
    " Usando el $min T$ de los test de ZA estaba cerca de 2017Q3.\n",
    " \n",
    " Separo en tres períodos."
   ]
  },
  {
   "cell_type": "markdown",
   "id": "f7ec9113",
   "metadata": {},
   "source": [
    "## Período 1993Q1 - 2004Q2 $\\longrightarrow$ Baja Inflación"
   ]
  },
  {
   "cell_type": "code",
   "execution_count": 10,
   "id": "f4372bf4",
   "metadata": {},
   "outputs": [],
   "source": [
    "tiempo1 <- tiempo[2:48] \n",
    "dif_log_pib1 <- dif_log_pib[1:47]\n",
    "dif_log_ibif1 <- dif_log_ibif[1:47]\n",
    "dif_log_ipcdt1 <- dif_log_ipcdt[1:47]"
   ]
  },
  {
   "cell_type": "code",
   "execution_count": 11,
   "id": "a89a930c",
   "metadata": {},
   "outputs": [],
   "source": [
    "dif_series1 <- cbind(dif_log_ipcdt1, dif_log_ibif1, dif_log_pib1)\n",
    "colnames(dif_series1) <- c(\"ipc1\", \"ibif1\", \"pib1\")"
   ]
  },
  {
   "cell_type": "code",
   "execution_count": 12,
   "id": "8efd08f2",
   "metadata": {},
   "outputs": [
    {
     "data": {
      "text/html": [
       "<dl class=dl-horizontal>\n",
       "\t<dt>AIC(n)</dt>\n",
       "\t\t<dd>10</dd>\n",
       "\t<dt>HQ(n)</dt>\n",
       "\t\t<dd>1</dd>\n",
       "\t<dt>SC(n)</dt>\n",
       "\t\t<dd>1</dd>\n",
       "\t<dt>FPE(n)</dt>\n",
       "\t\t<dd>1</dd>\n",
       "</dl>\n"
      ],
      "text/latex": [
       "\\begin{description*}\n",
       "\\item[AIC(n)] 10\n",
       "\\item[HQ(n)] 1\n",
       "\\item[SC(n)] 1\n",
       "\\item[FPE(n)] 1\n",
       "\\end{description*}\n"
      ],
      "text/markdown": [
       "AIC(n)\n",
       ":   10HQ(n)\n",
       ":   1SC(n)\n",
       ":   1FPE(n)\n",
       ":   1\n",
       "\n"
      ],
      "text/plain": [
       "AIC(n)  HQ(n)  SC(n) FPE(n) \n",
       "    10      1      1      1 "
      ]
     },
     "metadata": {},
     "output_type": "display_data"
    }
   ],
   "source": [
    "lags_var1 <- VARselect(dif_series1, lag.max = 10, type = \"none\")\n",
    "lags_var1$selection"
   ]
  },
  {
   "cell_type": "code",
   "execution_count": 13,
   "id": "143369ea",
   "metadata": {},
   "outputs": [],
   "source": [
    "var_estimado1 <- VAR(dif_series1, p = 1, type = \"none\")"
   ]
  },
  {
   "cell_type": "code",
   "execution_count": 14,
   "id": "de4394fb",
   "metadata": {},
   "outputs": [],
   "source": [
    "svar_estimado1 <- SVAR(var_estimado1, estmethod = \"direct\", Amat = amat)"
   ]
  },
  {
   "cell_type": "markdown",
   "id": "5d7bbc68",
   "metadata": {},
   "source": [
    "### Funciones de impulso-respuesta para baja inflación"
   ]
  },
  {
   "cell_type": "code",
   "execution_count": 15,
   "id": "239160f4",
   "metadata": {},
   "outputs": [
    {
     "data": {
      "image/png": "[encoded data removed]",
      "text/plain": [
       "plot without title"
      ]
     },
     "metadata": {},
     "output_type": "display_data"
    }
   ],
   "source": [
    "fun_pib1 <- irf(svar_estimado1, impulse = \"ipc1\", response = \"pib1\")\n",
    "plot(fun_pib1, main = \"Respuesta de PIB ante un shock de inflación - baja\")"
   ]
  },
  {
   "cell_type": "code",
   "execution_count": 16,
   "id": "4ce43ed0",
   "metadata": {},
   "outputs": [
    {
     "data": {
      "image/png": "[encoded data removed]",
      "text/plain": [
       "plot without title"
      ]
     },
     "metadata": {},
     "output_type": "display_data"
    }
   ],
   "source": [
    "fun_ibif1 <- irf(svar_estimado1, impulse = \"ipc1\", response = \"ibif1\")\n",
    "plot(fun_ibif1, main = \"Respuesta de IBIF ante un shock de inflación - baja\")"
   ]
  },
  {
   "cell_type": "markdown",
   "id": "bb7e14b6",
   "metadata": {},
   "source": [
    "## Período 2005Q1 - 2017Q2 $\\longrightarrow$ Inflación Media"
   ]
  },
  {
   "cell_type": "code",
   "execution_count": 17,
   "id": "3a5232be",
   "metadata": {},
   "outputs": [],
   "source": [
    "tiempo2 <- tiempo[49:98] \n",
    "dif_log_pib2 <- dif_log_pib[48:97]\n",
    "dif_log_ibif2 <- dif_log_ibif[48:97]\n",
    "dif_log_ipcdt2 <- dif_log_ipcdt[48:97]"
   ]
  },
  {
   "cell_type": "code",
   "execution_count": 18,
   "id": "6aa65445",
   "metadata": {},
   "outputs": [],
   "source": [
    "dif_series2 <- cbind(dif_log_ipcdt2, dif_log_ibif2, dif_log_pib2)\n",
    "colnames(dif_series2) <- c(\"ipc2\", \"ibif2\", \"pib2\")"
   ]
  },
  {
   "cell_type": "code",
   "execution_count": 19,
   "id": "7e8577b5",
   "metadata": {},
   "outputs": [
    {
     "data": {
      "text/html": [
       "<dl class=dl-horizontal>\n",
       "\t<dt>AIC(n)</dt>\n",
       "\t\t<dd>1</dd>\n",
       "\t<dt>HQ(n)</dt>\n",
       "\t\t<dd>1</dd>\n",
       "\t<dt>SC(n)</dt>\n",
       "\t\t<dd>1</dd>\n",
       "\t<dt>FPE(n)</dt>\n",
       "\t\t<dd>1</dd>\n",
       "</dl>\n"
      ],
      "text/latex": [
       "\\begin{description*}\n",
       "\\item[AIC(n)] 1\n",
       "\\item[HQ(n)] 1\n",
       "\\item[SC(n)] 1\n",
       "\\item[FPE(n)] 1\n",
       "\\end{description*}\n"
      ],
      "text/markdown": [
       "AIC(n)\n",
       ":   1HQ(n)\n",
       ":   1SC(n)\n",
       ":   1FPE(n)\n",
       ":   1\n",
       "\n"
      ],
      "text/plain": [
       "AIC(n)  HQ(n)  SC(n) FPE(n) \n",
       "     1      1      1      1 "
      ]
     },
     "metadata": {},
     "output_type": "display_data"
    }
   ],
   "source": [
    "lags_var2 <- VARselect(dif_series2, lag.max = 10, type = \"none\")\n",
    "lags_var2$selection"
   ]
  },
  {
   "cell_type": "code",
   "execution_count": 20,
   "id": "b450101d",
   "metadata": {},
   "outputs": [],
   "source": [
    "var_estimado2 <- VAR(dif_series2, p = 1, type = \"none\")"
   ]
  },
  {
   "cell_type": "code",
   "execution_count": 21,
   "id": "797b978c",
   "metadata": {},
   "outputs": [],
   "source": [
    "svar_estimado2 <- SVAR(var_estimado2, estmethod = \"direct\", Amat = amat)"
   ]
  },
  {
   "cell_type": "markdown",
   "id": "635d5174",
   "metadata": {},
   "source": [
    "### Funciones de impulso-respuesta para baja media"
   ]
  },
  {
   "cell_type": "code",
   "execution_count": 22,
   "id": "d0c126b5",
   "metadata": {},
   "outputs": [
    {
     "data": {
      "image/png": "[encoded data removed]",
      "text/plain": [
       "plot without title"
      ]
     },
     "metadata": {},
     "output_type": "display_data"
    }
   ],
   "source": [
    "fun_pib2 <- irf(svar_estimado2, impulse = \"ipc2\", response = \"pib2\")\n",
    "plot(fun_pib2, main = \"Respuesta de PIB ante un shock de inflación - Intermedia\")"
   ]
  },
  {
   "cell_type": "code",
   "execution_count": 23,
   "id": "be0a5dae",
   "metadata": {},
   "outputs": [
    {
     "data": {
      "image/png": "[encoded data removed]",
      "text/plain": [
       "plot without title"
      ]
     },
     "metadata": {},
     "output_type": "display_data"
    }
   ],
   "source": [
    "fun_ibif2 <- irf(svar_estimado2, impulse = \"ipc2\", response = \"ibif2\")\n",
    "plot(fun_ibif2, main = \"Respuesta de IBIF ante un shock de inflación - Intermedia\")"
   ]
  },
  {
   "cell_type": "markdown",
   "id": "b9acee41",
   "metadata": {},
   "source": [
    "## Período 2017Q3 - 2021Q4 $\\longrightarrow$ Inflación Alta"
   ]
  },
  {
   "cell_type": "code",
   "execution_count": 24,
   "id": "0c5ca251",
   "metadata": {},
   "outputs": [],
   "source": [
    "tiempo3 <- tiempo[99:116]\n",
    "dif_log_pib3 <- dif_log_pib[98:115]\n",
    "dif_log_ibif3 <- dif_log_ibif[98:115]\n",
    "dif_log_ipcdt3 <- dif_log_ipcdt[98:115]"
   ]
  },
  {
   "cell_type": "code",
   "execution_count": 25,
   "id": "021ae5af",
   "metadata": {},
   "outputs": [],
   "source": [
    "dif_series3 <- cbind(dif_log_ipcdt3, dif_log_ibif3, dif_log_pib3)\n",
    "colnames(dif_series3) <- c(\"ipc3\", \"ibif3\", \"pib3\")"
   ]
  },
  {
   "cell_type": "code",
   "execution_count": 26,
   "id": "06a893e8",
   "metadata": {},
   "outputs": [
    {
     "data": {
      "text/html": [
       "<dl class=dl-horizontal>\n",
       "\t<dt>AIC(n)</dt>\n",
       "\t\t<dd>3</dd>\n",
       "\t<dt>HQ(n)</dt>\n",
       "\t\t<dd>3</dd>\n",
       "\t<dt>SC(n)</dt>\n",
       "\t\t<dd>3</dd>\n",
       "\t<dt>FPE(n)</dt>\n",
       "\t\t<dd>3</dd>\n",
       "</dl>\n"
      ],
      "text/latex": [
       "\\begin{description*}\n",
       "\\item[AIC(n)] 3\n",
       "\\item[HQ(n)] 3\n",
       "\\item[SC(n)] 3\n",
       "\\item[FPE(n)] 3\n",
       "\\end{description*}\n"
      ],
      "text/markdown": [
       "AIC(n)\n",
       ":   3HQ(n)\n",
       ":   3SC(n)\n",
       ":   3FPE(n)\n",
       ":   3\n",
       "\n"
      ],
      "text/plain": [
       "AIC(n)  HQ(n)  SC(n) FPE(n) \n",
       "     3      3      3      3 "
      ]
     },
     "metadata": {},
     "output_type": "display_data"
    }
   ],
   "source": [
    "lags_var3 <- VARselect(dif_series3, lag.max = 10, type = \"none\")\n",
    "lags_var3$selection"
   ]
  },
  {
   "cell_type": "code",
   "execution_count": 27,
   "id": "af4541da",
   "metadata": {},
   "outputs": [],
   "source": [
    "var_estimado3 <- VAR(dif_series3, p = 3, type = \"none\")"
   ]
  },
  {
   "cell_type": "code",
   "execution_count": 28,
   "id": "5454ed37",
   "metadata": {},
   "outputs": [],
   "source": [
    "svar_estimado3 <- SVAR(var_estimado3, estmethod = \"direct\", Amat = amat)"
   ]
  },
  {
   "cell_type": "markdown",
   "id": "4599715b",
   "metadata": {},
   "source": [
    "### Funciones de impulso-respuesta para alta inflación"
   ]
  },
  {
   "cell_type": "code",
   "execution_count": 29,
   "id": "ded36943",
   "metadata": {},
   "outputs": [
    {
     "data": {
      "image/png": "[encoded data removed]",
      "text/plain": [
       "plot without title"
      ]
     },
     "metadata": {},
     "output_type": "display_data"
    }
   ],
   "source": [
    "fun_pib3 <- irf(svar_estimado3, impulse = \"ipc3\", response = \"pib3\")\n",
    "plot(fun_pib3, main = \"Respuesta de PIB ante un shock de inflación - Alta\")"
   ]
  },
  {
   "cell_type": "code",
   "execution_count": 30,
   "id": "ee858deb",
   "metadata": {},
   "outputs": [
    {
     "data": {
      "image/png": "[encoded data removed]",
      "text/plain": [
       "plot without title"
      ]
     },
     "metadata": {},
     "output_type": "display_data"
    }
   ],
   "source": [
    "fun_ibif3 <- irf(svar_estimado3, impulse = \"ipc3\", response = \"ibif3\")\n",
    "plot(fun_ibif3, main = \"Respuesta de IBIF ante un shock de inflación - Alta\")"
   ]
  },
  {
   "cell_type": "code",
   "execution_count": null,
   "id": "2029b90e",
   "metadata": {},
   "outputs": [],
   "source": []
  }
 ],
 "metadata": {
  "kernelspec": {
   "display_name": "R",
   "language": "R",
   "name": "ir"
  },
  "language_info": {
   "codemirror_mode": "r",
   "file_extension": ".r",
   "mimetype": "text/x-r-source",
   "name": "R",
   "pygments_lexer": "r",
   "version": "3.6.3"
  }
 },
 "nbformat": 4,
 "nbformat_minor": 5
}
